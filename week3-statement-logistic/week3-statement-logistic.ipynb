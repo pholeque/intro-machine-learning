{
 "cells": [
  {
   "cell_type": "markdown",
   "metadata": {},
   "source": [
    "Логистическая регрессия — один из видов линейных классификаторов. Одной из ее особенностей является возможность оценивания вероятностей классов, тогда как большинство линейных классификаторов могут выдавать только номера классов. \n",
    "\n",
    "Логистическая регрессия использует достаточно сложный функционал качества, который не допускает записи решения в явном виде (в отличие от, например, линейной регрессии). Тем не менее, логистическую регрессию можно настраивать с помощью градиентного спуска.\n",
    "\n",
    "Мы будем работать с выборкой, содержащей два признака. Будем считать, что ответы лежат в множестве {-1, 1}."
   ]
  },
  {
   "cell_type": "code",
   "execution_count": 28,
   "metadata": {},
   "outputs": [],
   "source": [
    "import pandas as pd\n",
    "import numpy as np\n",
    "from sklearn.svm import SVC\n",
    "from typing import Tuple\n",
    "from sklearn.metrics import roc_auc_score"
   ]
  },
  {
   "cell_type": "markdown",
   "metadata": {},
   "source": [
    "# 1. Загрузите данные из файла data-logistic.csv. Это двумерная выборка, целевая переменная на которой принимает значения -1 или 1."
   ]
  },
  {
   "cell_type": "code",
   "execution_count": 29,
   "metadata": {},
   "outputs": [],
   "source": [
    "data = pd.read_csv('data-logistic.csv', header=None)\n",
    "y = data[0]\n",
    "X = data.loc[:,1:]"
   ]
  },
  {
   "cell_type": "markdown",
   "metadata": {},
   "source": [
    "# 2. Реализуйте градиентный спуск для обычной и L2-регуляризованной (с коэффициентом регуляризации 10) логистической регрессии. \n",
    "Используйте длину шага k=0.1. В качестве начального приближения используйте вектор (0, 0). Реализуйте градиентный спуск для обычной и L2-регуляризованной (с коэффициентом регуляризации 10) логистической регрессии. Используйте длину шага k=0.1. В качестве начального приближения используйте вектор (0, 0).\n",
    "\n",
    "Запустите градиентный спуск и доведите до сходимости (евклидово расстояние между векторами весов на соседних итерациях должно быть не больше 1e-5). Рекомендуется ограничить сверху число итераций десятью тысячами."
   ]
  },
  {
   "cell_type": "code",
   "execution_count": 39,
   "metadata": {},
   "outputs": [],
   "source": [
    "def w1_iter(X: pd.DataFrame, y: pd.Series, w1: float, w2: float, k: float, C: float) -> float:\n",
    "    l = len(y)\n",
    "    Sum = 0\n",
    "    for i in range(0, l):\n",
    "        Sum += y[i] * X[1][i] * (1 - 1 / (1 + np.exp(-y[i] * (w1 * X[1][i] + w2 * X[2][i]))))\n",
    "    \n",
    "    return w1 + k / l * Sum - k * C * w1\n",
    "\n",
    "\n",
    "def w2_iter(X: pd.DataFrame, y: pd.Series, w1: float, w2: float, k: float, C: float) -> float:\n",
    "    l = len(y)\n",
    "    Sum = 0\n",
    "    for i in range(0, l):\n",
    "        Sum += y[i] * X[2][i] * (1 - 1 / (1 + np.exp(-y[i] * (w1 * X[1][i] + w2 * X[2][i]))))\n",
    "    \n",
    "    return w2 + k / l * Sum - k * C * w2"
   ]
  },
  {
   "cell_type": "code",
   "execution_count": null,
   "metadata": {},
   "outputs": [],
   "source": [
    "def gradient_descent(X: pd.DataFrame, y: pd.Series, w1: float=0.0, w2: float=0.0,\n",
    "         k: float=0.1, C: float=0.0, precision: float=1e-5, max_iter: int=10000) -> Tuple[float, float]:\n",
    "    for i in range(max_iter):\n",
    "        w1_prev, w2_prev = w1, w2\n",
    "        w1, w2 = w1_iter(X, y, w1, w2, k, C), w2_iter(X, y, w1, w2, k, C)\n",
    "        if np.sqrt((w1_prev - w1) ** 2 + (w2_prev - w2) ** 2) <= precision:\n",
    "            break\n",
    "\n",
    "    return w1, w2"
   ]
  },
  {
   "cell_type": "code",
   "execution_count": 41,
   "metadata": {},
   "outputs": [],
   "source": [
    "w1, w2 = gradient_descent(X,y)\n",
    "w1_L2,w2_L2 = gradient_descent(X, y, C = 10)"
   ]
  },
  {
   "cell_type": "markdown",
   "metadata": {},
   "source": [
    "# 3. Какое значение принимает AUC-ROC на обучении без регуляризации и при ее использовании? \n",
    "Эти величины будут ответом на задание. В качестве ответа приведите два числа через пробел. Обратите внимание, что на вход функции roc_auc_score нужно подавать оценки вероятностей, подсчитанные обученным алгоритмом. Для этого воспользуйтесь сигмоидной функцией: a(x) = 1 / (1 + exp(-w1 x1 - w2 x2)). \n"
   ]
  },
  {
   "cell_type": "code",
   "execution_count": 42,
   "metadata": {},
   "outputs": [],
   "source": [
    "def a(X: pd.DataFrame, w1: float, w2: float) -> pd.Series:\n",
    "    return 1 / (1 + np.exp(- w1 * X[1] - w2 * X[2]))\n",
    "\n",
    "y_sigm = a(X, w1, w2)\n",
    "y_sigm_L2 = a(X, w1_L2, w2_L2)\n",
    "\n",
    "\n",
    "f = open('answer.txt', 'w')\n",
    "f.write(str(np.round(roc_auc_score(y, y_sigm), 3)))\n",
    "f.write(' ')\n",
    "f.write(str(np.round(roc_auc_score(y, y_sigm_L2), 3)))\n",
    "f.close()"
   ]
  }
 ],
 "metadata": {
  "kernelspec": {
   "display_name": "Python 3",
   "language": "python",
   "name": "python3"
  },
  "language_info": {
   "codemirror_mode": {
    "name": "ipython",
    "version": 3
   },
   "file_extension": ".py",
   "mimetype": "text/x-python",
   "name": "python",
   "nbconvert_exporter": "python",
   "pygments_lexer": "ipython3",
   "version": "3.7.6"
  }
 },
 "nbformat": 4,
 "nbformat_minor": 4
}
